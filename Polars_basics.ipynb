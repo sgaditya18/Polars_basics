{
 "cells": [
  {
   "cell_type": "code",
   "execution_count": 3,
   "metadata": {},
   "outputs": [
    {
     "name": "stdout",
     "output_type": "stream",
     "text": [
      "Collecting polars\n",
      "  Downloading polars-0.18.6-cp38-abi3-win_amd64.whl (19.8 MB)\n",
      "     --------------------------------------- 19.8/19.8 MB 81.8 MB/s eta 0:00:00\n",
      "Installing collected packages: polars\n",
      "Successfully installed polars-0.18.6\n"
     ]
    }
   ],
   "source": [
    "!pip install polars"
   ]
  },
  {
   "cell_type": "code",
   "execution_count": 4,
   "metadata": {},
   "outputs": [],
   "source": [
    "import pandas as pd\n",
    "import polars as pl\n",
    "import polars.selectors as cs\n",
    "\n",
    "import seaborn as sns\n",
    "import matplotlib.pyplot as plt"
   ]
  },
  {
   "cell_type": "code",
   "execution_count": 1,
   "metadata": {},
   "outputs": [
    {
     "data": {
      "text/html": [
       "<style>.container { width:90% !important; }</style>"
      ],
      "text/plain": [
       "<IPython.core.display.HTML object>"
      ]
     },
     "metadata": {},
     "output_type": "display_data"
    }
   ],
   "source": [
    "#If you're not familiar with this, save it! Makes using jupyter notebook on laptops much easier\n",
    "from IPython.core.display import display, HTML\n",
    "display(HTML(\"<style>.container { width:90% !important; }</style>\"))"
   ]
  },
  {
   "cell_type": "code",
   "execution_count": 15,
   "metadata": {},
   "outputs": [
    {
     "data": {
      "text/plain": [
       "polars.config.Config"
      ]
     },
     "execution_count": 15,
     "metadata": {},
     "output_type": "execute_result"
    }
   ],
   "source": [
    "pl.Config.set_tbl_width_chars(2000)\n"
   ]
  },
  {
   "cell_type": "code",
   "execution_count": 8,
   "metadata": {},
   "outputs": [],
   "source": [
    "path  = './data/GBvideos.csv'"
   ]
  },
  {
   "cell_type": "markdown",
   "metadata": {},
   "source": [
    "# Data"
   ]
  },
  {
   "cell_type": "code",
   "execution_count": 9,
   "metadata": {},
   "outputs": [
    {
     "name": "stdout",
     "output_type": "stream",
     "text": [
      "Wall time: 489 ms\n"
     ]
    }
   ],
   "source": [
    "%%time\n",
    "df_pl = pl.read_csv(path)"
   ]
  },
  {
   "cell_type": "code",
   "execution_count": 10,
   "metadata": {},
   "outputs": [
    {
     "name": "stdout",
     "output_type": "stream",
     "text": [
      "Wall time: 942 ms\n"
     ]
    }
   ],
   "source": [
    "%%time\n",
    "df_pd = pd.read_csv(path)"
   ]
  },
  {
   "cell_type": "markdown",
   "metadata": {},
   "source": [
    "## Common Exploratory Methods"
   ]
  },
  {
   "cell_type": "code",
   "execution_count": 11,
   "metadata": {},
   "outputs": [
    {
     "name": "stdout",
     "output_type": "stream",
     "text": [
      "(38916, 16)\n"
     ]
    },
    {
     "data": {
      "text/html": [
       "<div>\n",
       "<style scoped>\n",
       "    .dataframe tbody tr th:only-of-type {\n",
       "        vertical-align: middle;\n",
       "    }\n",
       "\n",
       "    .dataframe tbody tr th {\n",
       "        vertical-align: top;\n",
       "    }\n",
       "\n",
       "    .dataframe thead th {\n",
       "        text-align: right;\n",
       "    }\n",
       "</style>\n",
       "<table border=\"1\" class=\"dataframe\">\n",
       "  <thead>\n",
       "    <tr style=\"text-align: right;\">\n",
       "      <th></th>\n",
       "      <th>video_id</th>\n",
       "      <th>trending_date</th>\n",
       "      <th>title</th>\n",
       "      <th>channel_title</th>\n",
       "      <th>category_id</th>\n",
       "      <th>publish_time</th>\n",
       "      <th>tags</th>\n",
       "      <th>views</th>\n",
       "      <th>likes</th>\n",
       "      <th>dislikes</th>\n",
       "      <th>comment_count</th>\n",
       "      <th>thumbnail_link</th>\n",
       "      <th>comments_disabled</th>\n",
       "      <th>ratings_disabled</th>\n",
       "      <th>video_error_or_removed</th>\n",
       "      <th>description</th>\n",
       "    </tr>\n",
       "  </thead>\n",
       "  <tbody>\n",
       "    <tr>\n",
       "      <th>0</th>\n",
       "      <td>Jw1Y-zhQURU</td>\n",
       "      <td>17.14.11</td>\n",
       "      <td>John Lewis Christmas Ad 2017 - #MozTheMonster</td>\n",
       "      <td>John Lewis</td>\n",
       "      <td>26</td>\n",
       "      <td>2017-11-10T07:38:29.000Z</td>\n",
       "      <td>christmas|\"john lewis christmas\"|\"john lewis\"|...</td>\n",
       "      <td>7224515</td>\n",
       "      <td>55681</td>\n",
       "      <td>10247</td>\n",
       "      <td>9479</td>\n",
       "      <td>https://i.ytimg.com/vi/Jw1Y-zhQURU/default.jpg</td>\n",
       "      <td>False</td>\n",
       "      <td>False</td>\n",
       "      <td>False</td>\n",
       "      <td>Click here to continue the story and make your...</td>\n",
       "    </tr>\n",
       "    <tr>\n",
       "      <th>1</th>\n",
       "      <td>3s1rvMFUweQ</td>\n",
       "      <td>17.14.11</td>\n",
       "      <td>Taylor Swift: …Ready for It? (Live) - SNL</td>\n",
       "      <td>Saturday Night Live</td>\n",
       "      <td>24</td>\n",
       "      <td>2017-11-12T06:24:44.000Z</td>\n",
       "      <td>SNL|\"Saturday Night Live\"|\"SNL Season 43\"|\"Epi...</td>\n",
       "      <td>1053632</td>\n",
       "      <td>25561</td>\n",
       "      <td>2294</td>\n",
       "      <td>2757</td>\n",
       "      <td>https://i.ytimg.com/vi/3s1rvMFUweQ/default.jpg</td>\n",
       "      <td>False</td>\n",
       "      <td>False</td>\n",
       "      <td>False</td>\n",
       "      <td>Musical guest Taylor Swift performs …Ready for...</td>\n",
       "    </tr>\n",
       "  </tbody>\n",
       "</table>\n",
       "</div>"
      ],
      "text/plain": [
       "      video_id trending_date                                          title  \\\n",
       "0  Jw1Y-zhQURU      17.14.11  John Lewis Christmas Ad 2017 - #MozTheMonster   \n",
       "1  3s1rvMFUweQ      17.14.11      Taylor Swift: …Ready for It? (Live) - SNL   \n",
       "\n",
       "         channel_title  category_id              publish_time  \\\n",
       "0           John Lewis           26  2017-11-10T07:38:29.000Z   \n",
       "1  Saturday Night Live           24  2017-11-12T06:24:44.000Z   \n",
       "\n",
       "                                                tags    views  likes  \\\n",
       "0  christmas|\"john lewis christmas\"|\"john lewis\"|...  7224515  55681   \n",
       "1  SNL|\"Saturday Night Live\"|\"SNL Season 43\"|\"Epi...  1053632  25561   \n",
       "\n",
       "   dislikes  comment_count                                  thumbnail_link  \\\n",
       "0     10247           9479  https://i.ytimg.com/vi/Jw1Y-zhQURU/default.jpg   \n",
       "1      2294           2757  https://i.ytimg.com/vi/3s1rvMFUweQ/default.jpg   \n",
       "\n",
       "   comments_disabled  ratings_disabled  video_error_or_removed  \\\n",
       "0              False             False                   False   \n",
       "1              False             False                   False   \n",
       "\n",
       "                                         description  \n",
       "0  Click here to continue the story and make your...  \n",
       "1  Musical guest Taylor Swift performs …Ready for...  "
      ]
     },
     "metadata": {},
     "output_type": "display_data"
    },
    {
     "data": {
      "text/html": [
       "<div>\n",
       "<style scoped>\n",
       "    .dataframe tbody tr th:only-of-type {\n",
       "        vertical-align: middle;\n",
       "    }\n",
       "\n",
       "    .dataframe tbody tr th {\n",
       "        vertical-align: top;\n",
       "    }\n",
       "\n",
       "    .dataframe thead th {\n",
       "        text-align: right;\n",
       "    }\n",
       "</style>\n",
       "<table border=\"1\" class=\"dataframe\">\n",
       "  <thead>\n",
       "    <tr style=\"text-align: right;\">\n",
       "      <th></th>\n",
       "      <th>video_id</th>\n",
       "      <th>trending_date</th>\n",
       "      <th>title</th>\n",
       "      <th>channel_title</th>\n",
       "      <th>category_id</th>\n",
       "      <th>publish_time</th>\n",
       "      <th>tags</th>\n",
       "      <th>views</th>\n",
       "      <th>likes</th>\n",
       "      <th>dislikes</th>\n",
       "      <th>comment_count</th>\n",
       "      <th>thumbnail_link</th>\n",
       "      <th>comments_disabled</th>\n",
       "      <th>ratings_disabled</th>\n",
       "      <th>video_error_or_removed</th>\n",
       "      <th>description</th>\n",
       "    </tr>\n",
       "  </thead>\n",
       "  <tbody>\n",
       "    <tr>\n",
       "      <th>38914</th>\n",
       "      <td>-DRsfNObKIQ</td>\n",
       "      <td>18.14.06</td>\n",
       "      <td>Eleni Foureira - Fuego - Cyprus - LIVE - First...</td>\n",
       "      <td>Eurovision Song Contest</td>\n",
       "      <td>24</td>\n",
       "      <td>2018-05-08T20:32:32.000Z</td>\n",
       "      <td>Eurovision Song Contest|\"2018\"|\"Lisbon\"|\"Cypru...</td>\n",
       "      <td>14317515</td>\n",
       "      <td>151870</td>\n",
       "      <td>45875</td>\n",
       "      <td>26766</td>\n",
       "      <td>https://i.ytimg.com/vi/-DRsfNObKIQ/default.jpg</td>\n",
       "      <td>False</td>\n",
       "      <td>False</td>\n",
       "      <td>False</td>\n",
       "      <td>Eleni Foureira represented Cyprus at the first...</td>\n",
       "    </tr>\n",
       "    <tr>\n",
       "      <th>38915</th>\n",
       "      <td>4YFo4bdMO8Q</td>\n",
       "      <td>18.14.06</td>\n",
       "      <td>KYLE - Ikuyo feat.  2 Chainz &amp; Sophia Black [A...</td>\n",
       "      <td>SuperDuperKyle</td>\n",
       "      <td>10</td>\n",
       "      <td>2018-05-11T04:06:35.000Z</td>\n",
       "      <td>Kyle|\"SuperDuperKyle\"|\"Ikuyo\"|\"2 Chainz\"|\"Soph...</td>\n",
       "      <td>607552</td>\n",
       "      <td>18271</td>\n",
       "      <td>274</td>\n",
       "      <td>1423</td>\n",
       "      <td>https://i.ytimg.com/vi/4YFo4bdMO8Q/default.jpg</td>\n",
       "      <td>False</td>\n",
       "      <td>False</td>\n",
       "      <td>False</td>\n",
       "      <td>Debut album 'Light of Mine' out now: http://ky...</td>\n",
       "    </tr>\n",
       "  </tbody>\n",
       "</table>\n",
       "</div>"
      ],
      "text/plain": [
       "          video_id trending_date  \\\n",
       "38914  -DRsfNObKIQ      18.14.06   \n",
       "38915  4YFo4bdMO8Q      18.14.06   \n",
       "\n",
       "                                                   title  \\\n",
       "38914  Eleni Foureira - Fuego - Cyprus - LIVE - First...   \n",
       "38915  KYLE - Ikuyo feat.  2 Chainz & Sophia Black [A...   \n",
       "\n",
       "                 channel_title  category_id              publish_time  \\\n",
       "38914  Eurovision Song Contest           24  2018-05-08T20:32:32.000Z   \n",
       "38915           SuperDuperKyle           10  2018-05-11T04:06:35.000Z   \n",
       "\n",
       "                                                    tags     views   likes  \\\n",
       "38914  Eurovision Song Contest|\"2018\"|\"Lisbon\"|\"Cypru...  14317515  151870   \n",
       "38915  Kyle|\"SuperDuperKyle\"|\"Ikuyo\"|\"2 Chainz\"|\"Soph...    607552   18271   \n",
       "\n",
       "       dislikes  comment_count  \\\n",
       "38914     45875          26766   \n",
       "38915       274           1423   \n",
       "\n",
       "                                       thumbnail_link  comments_disabled  \\\n",
       "38914  https://i.ytimg.com/vi/-DRsfNObKIQ/default.jpg              False   \n",
       "38915  https://i.ytimg.com/vi/4YFo4bdMO8Q/default.jpg              False   \n",
       "\n",
       "       ratings_disabled  video_error_or_removed  \\\n",
       "38914             False                   False   \n",
       "38915             False                   False   \n",
       "\n",
       "                                             description  \n",
       "38914  Eleni Foureira represented Cyprus at the first...  \n",
       "38915  Debut album 'Light of Mine' out now: http://ky...  "
      ]
     },
     "metadata": {},
     "output_type": "display_data"
    },
    {
     "data": {
      "text/html": [
       "<div>\n",
       "<style scoped>\n",
       "    .dataframe tbody tr th:only-of-type {\n",
       "        vertical-align: middle;\n",
       "    }\n",
       "\n",
       "    .dataframe tbody tr th {\n",
       "        vertical-align: top;\n",
       "    }\n",
       "\n",
       "    .dataframe thead th {\n",
       "        text-align: right;\n",
       "    }\n",
       "</style>\n",
       "<table border=\"1\" class=\"dataframe\">\n",
       "  <thead>\n",
       "    <tr style=\"text-align: right;\">\n",
       "      <th></th>\n",
       "      <th>video_id</th>\n",
       "      <th>trending_date</th>\n",
       "      <th>title</th>\n",
       "      <th>channel_title</th>\n",
       "      <th>category_id</th>\n",
       "      <th>publish_time</th>\n",
       "      <th>tags</th>\n",
       "      <th>views</th>\n",
       "      <th>likes</th>\n",
       "      <th>dislikes</th>\n",
       "      <th>comment_count</th>\n",
       "      <th>thumbnail_link</th>\n",
       "      <th>comments_disabled</th>\n",
       "      <th>ratings_disabled</th>\n",
       "      <th>video_error_or_removed</th>\n",
       "      <th>description</th>\n",
       "    </tr>\n",
       "  </thead>\n",
       "  <tbody>\n",
       "    <tr>\n",
       "      <th>17538</th>\n",
       "      <td>CZ7KRUYQyKE</td>\n",
       "      <td>18.11.02</td>\n",
       "      <td>HE'S GONE....WE CANT BE WITHOUT HIM ANY LONGER 💔😔</td>\n",
       "      <td>The 2x Family</td>\n",
       "      <td>22</td>\n",
       "      <td>2018-01-26T23:02:30.000Z</td>\n",
       "      <td>Prettyboyfredo|\"Jasmine\"|\"times\"|\"romanatwood\"...</td>\n",
       "      <td>1694789</td>\n",
       "      <td>128070</td>\n",
       "      <td>2874</td>\n",
       "      <td>7655</td>\n",
       "      <td>https://i.ytimg.com/vi/CZ7KRUYQyKE/default.jpg</td>\n",
       "      <td>False</td>\n",
       "      <td>False</td>\n",
       "      <td>False</td>\n",
       "      <td>Fredo's gone &amp; I don't know when hes coming ba...</td>\n",
       "    </tr>\n",
       "    <tr>\n",
       "      <th>35954</th>\n",
       "      <td>UvDJ-ZdHiSg</td>\n",
       "      <td>18.28.05</td>\n",
       "      <td>The Black Eyed Peas - RING THE ALARM pt.1, pt....</td>\n",
       "      <td>BlackEyedPeasVEVO</td>\n",
       "      <td>10</td>\n",
       "      <td>2018-05-18T05:00:04.000Z</td>\n",
       "      <td>The|\"Black\"|\"Eyed\"|\"Peas\"|\"RING\"|\"THE\"|\"ALARM\"...</td>\n",
       "      <td>2329700</td>\n",
       "      <td>157506</td>\n",
       "      <td>4123</td>\n",
       "      <td>6668</td>\n",
       "      <td>https://i.ytimg.com/vi/UvDJ-ZdHiSg/default.jpg</td>\n",
       "      <td>False</td>\n",
       "      <td>False</td>\n",
       "      <td>False</td>\n",
       "      <td>Listen to Ring The Alarm, out now.http://smart...</td>\n",
       "    </tr>\n",
       "  </tbody>\n",
       "</table>\n",
       "</div>"
      ],
      "text/plain": [
       "          video_id trending_date  \\\n",
       "17538  CZ7KRUYQyKE      18.11.02   \n",
       "35954  UvDJ-ZdHiSg      18.28.05   \n",
       "\n",
       "                                                   title      channel_title  \\\n",
       "17538  HE'S GONE....WE CANT BE WITHOUT HIM ANY LONGER 💔😔      The 2x Family   \n",
       "35954  The Black Eyed Peas - RING THE ALARM pt.1, pt....  BlackEyedPeasVEVO   \n",
       "\n",
       "       category_id              publish_time  \\\n",
       "17538           22  2018-01-26T23:02:30.000Z   \n",
       "35954           10  2018-05-18T05:00:04.000Z   \n",
       "\n",
       "                                                    tags    views   likes  \\\n",
       "17538  Prettyboyfredo|\"Jasmine\"|\"times\"|\"romanatwood\"...  1694789  128070   \n",
       "35954  The|\"Black\"|\"Eyed\"|\"Peas\"|\"RING\"|\"THE\"|\"ALARM\"...  2329700  157506   \n",
       "\n",
       "       dislikes  comment_count  \\\n",
       "17538      2874           7655   \n",
       "35954      4123           6668   \n",
       "\n",
       "                                       thumbnail_link  comments_disabled  \\\n",
       "17538  https://i.ytimg.com/vi/CZ7KRUYQyKE/default.jpg              False   \n",
       "35954  https://i.ytimg.com/vi/UvDJ-ZdHiSg/default.jpg              False   \n",
       "\n",
       "       ratings_disabled  video_error_or_removed  \\\n",
       "17538             False                   False   \n",
       "35954             False                   False   \n",
       "\n",
       "                                             description  \n",
       "17538  Fredo's gone & I don't know when hes coming ba...  \n",
       "35954  Listen to Ring The Alarm, out now.http://smart...  "
      ]
     },
     "metadata": {},
     "output_type": "display_data"
    }
   ],
   "source": [
    "print(df_pd.shape)\n",
    "display(df_pd.head(2))\n",
    "display(df_pd.tail(2))\n",
    "display(df_pd.sample(2))"
   ]
  },
  {
   "cell_type": "code",
   "execution_count": 16,
   "metadata": {},
   "outputs": [
    {
     "name": "stdout",
     "output_type": "stream",
     "text": [
      "(38916, 16)\n",
      "shape: (2, 16)\n",
      "┌─────────────┬───────────────┬───────────────────────────────────┬─────────────────────┬───┬───────────────────┬──────────────────┬────────────────────────┬───────────────────────────────────┐\n",
      "│ video_id    ┆ trending_date ┆ title                             ┆ channel_title       ┆ … ┆ comments_disabled ┆ ratings_disabled ┆ video_error_or_removed ┆ description                       │\n",
      "│ ---         ┆ ---           ┆ ---                               ┆ ---                 ┆   ┆ ---               ┆ ---              ┆ ---                    ┆ ---                               │\n",
      "│ str         ┆ str           ┆ str                               ┆ str                 ┆   ┆ bool              ┆ bool             ┆ bool                   ┆ str                               │\n",
      "╞═════════════╪═══════════════╪═══════════════════════════════════╪═════════════════════╪═══╪═══════════════════╪══════════════════╪════════════════════════╪═══════════════════════════════════╡\n",
      "│ Jw1Y-zhQURU ┆ 17.14.11      ┆ John Lewis Christmas Ad 2017 - #… ┆ John Lewis          ┆ … ┆ false             ┆ false            ┆ false                  ┆ Click here to continue the story… │\n",
      "│ 3s1rvMFUweQ ┆ 17.14.11      ┆ Taylor Swift: …Ready for It? (Li… ┆ Saturday Night Live ┆ … ┆ false             ┆ false            ┆ false                  ┆ Musical guest Taylor Swift perfo… │\n",
      "└─────────────┴───────────────┴───────────────────────────────────┴─────────────────────┴───┴───────────────────┴──────────────────┴────────────────────────┴───────────────────────────────────┘\n",
      "shape: (2, 16)\n",
      "┌─────────────┬───────────────┬───────────────────────────────────┬─────────────────────────┬───┬───────────────────┬──────────────────┬────────────────────────┬───────────────────────────────────┐\n",
      "│ video_id    ┆ trending_date ┆ title                             ┆ channel_title           ┆ … ┆ comments_disabled ┆ ratings_disabled ┆ video_error_or_removed ┆ description                       │\n",
      "│ ---         ┆ ---           ┆ ---                               ┆ ---                     ┆   ┆ ---               ┆ ---              ┆ ---                    ┆ ---                               │\n",
      "│ str         ┆ str           ┆ str                               ┆ str                     ┆   ┆ bool              ┆ bool             ┆ bool                   ┆ str                               │\n",
      "╞═════════════╪═══════════════╪═══════════════════════════════════╪═════════════════════════╪═══╪═══════════════════╪══════════════════╪════════════════════════╪═══════════════════════════════════╡\n",
      "│ -DRsfNObKIQ ┆ 18.14.06      ┆ Eleni Foureira - Fuego - Cyprus … ┆ Eurovision Song Contest ┆ … ┆ false             ┆ false            ┆ false                  ┆ Eleni Foureira represented Cypru… │\n",
      "│ 4YFo4bdMO8Q ┆ 18.14.06      ┆ KYLE - Ikuyo feat.  2 Chainz & S… ┆ SuperDuperKyle          ┆ … ┆ false             ┆ false            ┆ false                  ┆ Debut album 'Light of Mine' out … │\n",
      "└─────────────┴───────────────┴───────────────────────────────────┴─────────────────────────┴───┴───────────────────┴──────────────────┴────────────────────────┴───────────────────────────────────┘\n",
      "shape: (2, 16)\n",
      "┌─────────────┬───────────────┬───────────────────────────────────┬──────────────────┬───┬───────────────────┬──────────────────┬────────────────────────┬──────────────────────────────────────┐\n",
      "│ video_id    ┆ trending_date ┆ title                             ┆ channel_title    ┆ … ┆ comments_disabled ┆ ratings_disabled ┆ video_error_or_removed ┆ description                          │\n",
      "│ ---         ┆ ---           ┆ ---                               ┆ ---              ┆   ┆ ---               ┆ ---              ┆ ---                    ┆ ---                                  │\n",
      "│ str         ┆ str           ┆ str                               ┆ str              ┆   ┆ bool              ┆ bool             ┆ bool                   ┆ str                                  │\n",
      "╞═════════════╪═══════════════╪═══════════════════════════════════╪══════════════════╪═══╪═══════════════════╪══════════════════╪════════════════════════╪══════════════════════════════════════╡\n",
      "│ sS0LCjOiIhc ┆ 18.19.03      ┆ GOT7 Look M/V                     ┆ jypentertainment ┆ … ┆ false             ┆ false            ┆ false                  ┆ GOT7(갓세븐) Look M/V\\n\\nFind GOT7 … │\n",
      "│ aHUmy5PvPjQ ┆ 18.08.06      ┆ Guns N' Roses - Shadow Of Your L… ┆ GunsNRosesVEVO   ┆ … ┆ false             ┆ false            ┆ false                  ┆ Guns N’ Roses – “Shadow Of Your …    │\n",
      "└─────────────┴───────────────┴───────────────────────────────────┴──────────────────┴───┴───────────────────┴──────────────────┴────────────────────────┴──────────────────────────────────────┘\n"
     ]
    }
   ],
   "source": [
    "print(df_pl.shape)\n",
    "print(df_pl.head(2))\n",
    "print(df_pl.tail(2))\n",
    "print(df_pl.sample(2))"
   ]
  },
  {
   "cell_type": "markdown",
   "metadata": {},
   "source": [
    "## Column Selection"
   ]
  },
  {
   "cell_type": "markdown",
   "metadata": {},
   "source": [
    "### Data Types"
   ]
  },
  {
   "cell_type": "code",
   "execution_count": 20,
   "metadata": {},
   "outputs": [
    {
     "name": "stdout",
     "output_type": "stream",
     "text": [
      "164 µs ± 1.8 µs per loop (mean ± std. dev. of 7 runs, 10000 loops each)\n"
     ]
    }
   ],
   "source": [
    "%%timeit\n",
    "numeric_data_pl = df_pl.select(cs.numeric())\n",
    "categorical_data_pl = df_pl.select(cs.string())"
   ]
  },
  {
   "cell_type": "code",
   "execution_count": 18,
   "metadata": {},
   "outputs": [
    {
     "name": "stdout",
     "output_type": "stream",
     "text": [
      "2.57 ms ± 105 µs per loop (mean ± std. dev. of 7 runs, 100 loops each)\n"
     ]
    }
   ],
   "source": [
    "%%timeit\n",
    "numeric_data_pd = df_pd.select_dtypes(include=\"number\")\n",
    "categorical_data_pd = df_pd.select_dtypes(exclude=\"number\")"
   ]
  },
  {
   "cell_type": "code",
   "execution_count": 21,
   "metadata": {},
   "outputs": [
    {
     "ename": "NameError",
     "evalue": "name 'numeric_data_pl' is not defined",
     "output_type": "error",
     "traceback": [
      "\u001b[1;31m---------------------------------------------------------------------------\u001b[0m",
      "\u001b[1;31mNameError\u001b[0m                                 Traceback (most recent call last)",
      "\u001b[1;32m~\\AppData\\Local\\Temp\\ipykernel_56856\\3864193008.py\u001b[0m in \u001b[0;36m<module>\u001b[1;34m\u001b[0m\n\u001b[1;32m----> 1\u001b[1;33m \u001b[0mprint\u001b[0m\u001b[1;33m(\u001b[0m\u001b[0mnumeric_data_pl\u001b[0m\u001b[1;33m.\u001b[0m\u001b[0mhead\u001b[0m\u001b[1;33m(\u001b[0m\u001b[1;33m)\u001b[0m\u001b[1;33m)\u001b[0m\u001b[1;33m\u001b[0m\u001b[1;33m\u001b[0m\u001b[0m\n\u001b[0m",
      "\u001b[1;31mNameError\u001b[0m: name 'numeric_data_pl' is not defined"
     ]
    }
   ],
   "source": [
    "print(numeric_data_pl.head())"
   ]
  },
  {
   "cell_type": "code",
   "execution_count": 22,
   "metadata": {},
   "outputs": [
    {
     "ename": "NameError",
     "evalue": "name 'categorical_data_pl' is not defined",
     "output_type": "error",
     "traceback": [
      "\u001b[1;31m---------------------------------------------------------------------------\u001b[0m",
      "\u001b[1;31mNameError\u001b[0m                                 Traceback (most recent call last)",
      "\u001b[1;32m~\\AppData\\Local\\Temp\\ipykernel_56856\\2367210989.py\u001b[0m in \u001b[0;36m<module>\u001b[1;34m\u001b[0m\n\u001b[1;32m----> 1\u001b[1;33m \u001b[0mprint\u001b[0m\u001b[1;33m(\u001b[0m\u001b[0mcategorical_data_pl\u001b[0m\u001b[1;33m.\u001b[0m\u001b[0mhead\u001b[0m\u001b[1;33m(\u001b[0m\u001b[1;33m)\u001b[0m\u001b[1;33m)\u001b[0m\u001b[1;33m\u001b[0m\u001b[1;33m\u001b[0m\u001b[0m\n\u001b[0m",
      "\u001b[1;31mNameError\u001b[0m: name 'categorical_data_pl' is not defined"
     ]
    }
   ],
   "source": [
    "print(categorical_data_pl.head())"
   ]
  },
  {
   "cell_type": "markdown",
   "metadata": {},
   "source": [
    "### Column names"
   ]
  },
  {
   "cell_type": "code",
   "execution_count": 23,
   "metadata": {},
   "outputs": [],
   "source": [
    "subset_pl = df_pl.select(\n",
    "    pl.col(\"likes\"), \n",
    "    pl.col(\"views\"),\n",
    "    pl.col(\"comment_count\")\n",
    ")\n",
    "susbet_pd = df_pd[[\"likes\", \"views\", \"comment_count\"]]"
   ]
  },
  {
   "cell_type": "markdown",
   "metadata": {},
   "source": [
    "## Row Selection"
   ]
  },
  {
   "cell_type": "markdown",
   "metadata": {},
   "source": [
    "#### Filtering"
   ]
  },
  {
   "cell_type": "code",
   "execution_count": 24,
   "metadata": {},
   "outputs": [
    {
     "data": {
      "text/plain": [
       "(6, 16)"
      ]
     },
     "execution_count": 24,
     "metadata": {},
     "output_type": "execute_result"
    }
   ],
   "source": [
    "filtered_pl = df_pl.filter(pl.col(\"views\") < 1000)\n",
    "filtered_pl.shape"
   ]
  },
  {
   "cell_type": "code",
   "execution_count": 25,
   "metadata": {},
   "outputs": [
    {
     "data": {
      "text/plain": [
       "(6, 16)"
      ]
     },
     "execution_count": 25,
     "metadata": {},
     "output_type": "execute_result"
    }
   ],
   "source": [
    "filtered_pd = df_pd[df_pd['views'] < 1000]\n",
    "filtered_pd.shape"
   ]
  },
  {
   "cell_type": "markdown",
   "metadata": {},
   "source": [
    "## Data Quality Checks"
   ]
  },
  {
   "cell_type": "code",
   "execution_count": 26,
   "metadata": {},
   "outputs": [
    {
     "name": "stdout",
     "output_type": "stream",
     "text": [
      "Missing rows:\n",
      "description    612\n",
      "dtype: int64\n",
      "\n",
      "Static Columns:\n",
      "Series([], dtype: bool)\n",
      "Wall time: 160 ms\n"
     ]
    }
   ],
   "source": [
    "%%time\n",
    "missing = df_pd.isna().sum()\n",
    "missing = missing[missing > 0]\n",
    "static = df_pd.nunique() == 1\n",
    "static = static[static]\n",
    "\n",
    "print(\"Missing rows:\")\n",
    "print(missing)\n",
    "print(\"\\nStatic Columns:\")\n",
    "print(static)"
   ]
  },
  {
   "cell_type": "code",
   "execution_count": 27,
   "metadata": {},
   "outputs": [
    {
     "name": "stdout",
     "output_type": "stream",
     "text": [
      "Missing columns:\n",
      "shape: (0, 2)\n",
      "┌──────────┬─────────┐\n",
      "│ variable ┆ missing │\n",
      "│ ---      ┆ ---     │\n",
      "│ str      ┆ u32     │\n",
      "╞══════════╪═════════╡\n",
      "└──────────┴─────────┘\n",
      "\n",
      "Static columns:\n",
      "shape: (0, 2)\n",
      "┌──────────┬────────┐\n",
      "│ variable ┆ unique │\n",
      "│ ---      ┆ ---    │\n",
      "│ str      ┆ u32    │\n",
      "╞══════════╪════════╡\n",
      "└──────────┴────────┘\n",
      "Wall time: 19.9 ms\n"
     ]
    }
   ],
   "source": [
    "%%time\n",
    "missing = (\n",
    "    df_pl.select(pl.all().is_null().sum())\n",
    "    .melt(value_name=\"missing\")\n",
    "    .filter(pl.col(\"missing\") > 0)\n",
    ")\n",
    "static = (\n",
    "    df_pl.select(pl.all().n_unique())\n",
    "    .melt(value_name=\"unique\")\n",
    "    .filter(pl.col(\"unique\") == 1)\n",
    ")\n",
    "print(\"Missing columns:\")\n",
    "print(missing)\n",
    "\n",
    "print(\"\\nStatic columns:\")\n",
    "print(static)"
   ]
  },
  {
   "cell_type": "markdown",
   "metadata": {},
   "source": [
    "## Cleaning"
   ]
  },
  {
   "cell_type": "markdown",
   "metadata": {},
   "source": [
    "### Date Conversion"
   ]
  },
  {
   "cell_type": "code",
   "execution_count": 28,
   "metadata": {},
   "outputs": [
    {
     "name": "stdout",
     "output_type": "stream",
     "text": [
      "Wall time: 46.9 ms\n"
     ]
    }
   ],
   "source": [
    "%%time\n",
    "df_pd['publish_time'] = pd.to_datetime(df_pd['publish_time'])\n",
    "df_pd['trending_date'] = pd.to_datetime(\n",
    "    df_pd['trending_date'], format='%y.%d.%m'\n",
    ")"
   ]
  },
  {
   "cell_type": "code",
   "execution_count": 29,
   "metadata": {},
   "outputs": [
    {
     "name": "stdout",
     "output_type": "stream",
     "text": [
      "Wall time: 37.9 ms\n"
     ]
    }
   ],
   "source": [
    "%%time\n",
    "df_pl = df_pl.with_columns(\n",
    "    pl.col('trending_date').str.to_date(format='%y.%d.%m'),\n",
    "    pl.col('publish_time').str.to_datetime()\n",
    ")"
   ]
  },
  {
   "cell_type": "markdown",
   "metadata": {},
   "source": [
    "### Category ID lookup"
   ]
  },
  {
   "cell_type": "code",
   "execution_count": 506,
   "metadata": {},
   "outputs": [],
   "source": [
    "import json\n",
    "\n",
    "with open('./youtube/US_category_id.json', 'r') as f:\n",
    "    categories = json.load(f)\n",
    "    \n",
    "id_to_category = {}\n",
    "for c in categories['items']:\n",
    "    id_to_category[int(c['id'])] = c['snippet']['title']"
   ]
  },
  {
   "cell_type": "code",
   "execution_count": 30,
   "metadata": {},
   "outputs": [
    {
     "ename": "NameError",
     "evalue": "name 'id_to_category' is not defined",
     "output_type": "error",
     "traceback": [
      "\u001b[1;31m---------------------------------------------------------------------------\u001b[0m",
      "\u001b[1;31mNameError\u001b[0m                                 Traceback (most recent call last)",
      "\u001b[1;32m<timed exec>\u001b[0m in \u001b[0;36m<module>\u001b[1;34m\u001b[0m\n",
      "\u001b[1;31mNameError\u001b[0m: name 'id_to_category' is not defined"
     ]
    }
   ],
   "source": [
    "%%time\n",
    "df_pd['category_id'] = df_pd['category_id'].map(id_to_category)"
   ]
  },
  {
   "cell_type": "code",
   "execution_count": 508,
   "metadata": {},
   "outputs": [
    {
     "name": "stdout",
     "output_type": "stream",
     "text": [
      "CPU times: user 2.11 ms, sys: 4.29 ms, total: 6.4 ms\n",
      "Wall time: 1.9 ms\n"
     ]
    }
   ],
   "source": [
    "%%time\n",
    "df_pl = df_pl.with_columns(pl.col(\"category_id\").map_dict(id_to_category))"
   ]
  },
  {
   "cell_type": "markdown",
   "metadata": {},
   "source": [
    "## Univariate Analysis"
   ]
  },
  {
   "cell_type": "code",
   "execution_count": 31,
   "metadata": {},
   "outputs": [
    {
     "data": {
      "image/png": "[encoded data removed]",
      "text/plain": [
       "<Figure size 640x480 with 1 Axes>"
      ]
     },
     "metadata": {},
     "output_type": "display_data"
    }
   ],
   "source": [
    "category_counts = df_pl[\"category_id\"].value_counts(sort=True)\n",
    "\n",
    "# Barplot\n",
    "sns.barplot(\n",
    "    y=category_counts[\"category_id\"].to_numpy(),\n",
    "    x=category_counts[\"counts\"].to_numpy(),\n",
    "    color=\"#306e81\",\n",
    ")\n",
    "plt.title(\"Category Counts in Trending Data\")\n",
    "plt.xlabel(\"Counts\")\n",
    "plt.show()"
   ]
  },
  {
   "cell_type": "code",
   "execution_count": 32,
   "metadata": {},
   "outputs": [
    {
     "name": "stdout",
     "output_type": "stream",
     "text": [
      "shape: (9, 2)\n",
      "┌────────────┬──────────────┐\n",
      "│ describe   ┆ views        │\n",
      "│ ---        ┆ ---          │\n",
      "│ str        ┆ f64          │\n",
      "╞════════════╪══════════════╡\n",
      "│ count      ┆ 38916.0      │\n",
      "│ null_count ┆ 0.0          │\n",
      "│ mean       ┆ 5.9119e6     │\n",
      "│ std        ┆ 1.9001e7     │\n",
      "│ min        ┆ 851.0        │\n",
      "│ max        ┆ 4.24538912e8 │\n",
      "│ median     ┆ 981889.0     │\n",
      "│ 25%        ┆ 251532.0     │\n",
      "│ 75%        ┆ 3.683945e6   │\n",
      "└────────────┴──────────────┘\n"
     ]
    }
   ],
   "source": [
    "views_stats = df_pl.select(pl.col(\"views\")).describe()\n",
    "print(views_stats)"
   ]
  },
  {
   "cell_type": "code",
   "execution_count": 33,
   "metadata": {},
   "outputs": [
    {
     "data": {
      "image/png": "[encoded data removed]",
      "text/plain": [
       "<Figure size 640x480 with 1 Axes>"
      ]
     },
     "metadata": {},
     "output_type": "display_data"
    }
   ],
   "source": [
    "sns.histplot(df_pl['views'].log())\n",
    "plt.title(\"Log Views Distribution in Trending\")\n",
    "plt.show()"
   ]
  },
  {
   "cell_type": "markdown",
   "metadata": {},
   "source": [
    "## Multivariate Analysis"
   ]
  },
  {
   "cell_type": "markdown",
   "metadata": {},
   "source": [
    "### Category Analysis"
   ]
  },
  {
   "cell_type": "code",
   "execution_count": 34,
   "metadata": {},
   "outputs": [
    {
     "name": "stdout",
     "output_type": "stream",
     "text": [
      "shape: (16, 2)\n",
      "┌─────────────┬──────────────┐\n",
      "│ category_id ┆ median_views │\n",
      "│ ---         ┆ ---          │\n",
      "│ i64         ┆ f64          │\n",
      "╞═════════════╪══════════════╡\n",
      "│ 10          ┆ 2.980744e6   │\n",
      "│ 43          ┆ 1498767.5    │\n",
      "│ 23          ┆ 1278302.5    │\n",
      "│ 1           ┆ 1.144917e6   │\n",
      "│ …           ┆ …            │\n",
      "│ 20          ┆ 309154.5     │\n",
      "│ 26          ┆ 263412.0     │\n",
      "│ 25          ┆ 229753.0     │\n",
      "│ 19          ┆ 218176.0     │\n",
      "└─────────────┴──────────────┘\n"
     ]
    }
   ],
   "source": [
    "views_by_category = df_pl.groupby(pl.col(\"category_id\")).agg(pl.col(\"views\").median().alias(\"median_views\")).sort(\"median_views\", descending=True)\n",
    "print(views_by_category)"
   ]
  },
  {
   "cell_type": "code",
   "execution_count": 35,
   "metadata": {},
   "outputs": [
    {
     "data": {
      "image/png": "[encoded data removed]",
      "text/plain": [
       "<Figure size 640x480 with 1 Axes>"
      ]
     },
     "metadata": {},
     "output_type": "display_data"
    }
   ],
   "source": [
    "sns.boxplot(x=df_pl['category_id'].to_numpy(), y=df_pl['views'].log().to_numpy(), color=\"#306e81\")\n",
    "plt.title(\"Views per Category\")\n",
    "plt.xticks(rotation=75)\n",
    "plt.show()"
   ]
  },
  {
   "cell_type": "markdown",
   "metadata": {},
   "source": [
    "### Channel Analysis"
   ]
  },
  {
   "cell_type": "code",
   "execution_count": 36,
   "metadata": {},
   "outputs": [
    {
     "name": "stdout",
     "output_type": "stream",
     "text": [
      "shape: (5, 2)\n",
      "┌───────────────────────────────────┬────────┐\n",
      "│ channel_title                     ┆ counts │\n",
      "│ ---                               ┆ ---    │\n",
      "│ str                               ┆ u32    │\n",
      "╞═══════════════════════════════════╪════════╡\n",
      "│ The Tonight Show Starring Jimmy … ┆ 208    │\n",
      "│ TheEllenShow                      ┆ 207    │\n",
      "│ Jimmy Kimmel Live                 ┆ 207    │\n",
      "│ Saturday Night Live               ┆ 206    │\n",
      "│ WWE                               ┆ 205    │\n",
      "└───────────────────────────────────┴────────┘\n"
     ]
    }
   ],
   "source": [
    "# Who's the most frequent channels?\n",
    "print(df_pl['channel_title'].value_counts(sort=True).head(5))"
   ]
  },
  {
   "cell_type": "code",
   "execution_count": 37,
   "metadata": {},
   "outputs": [
    {
     "name": "stdout",
     "output_type": "stream",
     "text": [
      "shape: (5, 2)\n",
      "┌───────────────────────────────────┬────────────────┐\n",
      "│ channel_title                     ┆ trending_count │\n",
      "│ ---                               ┆ ---            │\n",
      "│ str                               ┆ u32            │\n",
      "╞═══════════════════════════════════╪════════════════╡\n",
      "│ The Tonight Show Starring Jimmy … ┆ 208            │\n",
      "│ Jimmy Kimmel Live                 ┆ 207            │\n",
      "│ TheEllenShow                      ┆ 207            │\n",
      "│ Saturday Night Live               ┆ 206            │\n",
      "│ WWE                               ┆ 205            │\n",
      "└───────────────────────────────────┴────────────────┘\n"
     ]
    }
   ],
   "source": [
    "channel_popularity = (\n",
    "    df_pl.groupby(pl.col(\"channel_title\"))\n",
    "    .agg(pl.count().alias(\"trending_count\"))\n",
    "    .sort(pl.col(\"trending_count\"), descending=True)\n",
    ")\n",
    "\n",
    "print(channel_popularity.head())"
   ]
  },
  {
   "cell_type": "code",
   "execution_count": 38,
   "metadata": {},
   "outputs": [
    {
     "name": "stdout",
     "output_type": "stream",
     "text": [
      "The Tonight Show Starring Jimmy Fallon    208\n",
      "Jimmy Kimmel Live                         207\n",
      "TheEllenShow                              207\n",
      "Saturday Night Live                       206\n",
      "WWE                                       205\n",
      "Name: channel_title, dtype: int64\n"
     ]
    }
   ],
   "source": [
    "# Who's the most frequent channels?\n",
    "print(df_pd['channel_title'].value_counts(sort=True).head(5))"
   ]
  },
  {
   "cell_type": "code",
   "execution_count": 39,
   "metadata": {},
   "outputs": [
    {
     "data": {
      "text/html": [
       "<div><style>\n",
       ".dataframe > thead > tr > th,\n",
       ".dataframe > tbody > tr > td {\n",
       "  text-align: right;\n",
       "}\n",
       "</style>\n",
       "<small>shape: (5, 9)</small><table border=\"1\" class=\"dataframe\"><thead><tr><th>channel_title</th><th>trending_count</th><th>number_of_trending_videos</th><th>total_views</th><th>total_likes</th><th>total_comments</th><th>average_views</th><th>average_likes</th><th>average_comments</th></tr><tr><td>str</td><td>u32</td><td>u32</td><td>i64</td><td>i64</td><td>i64</td><td>f64</td><td>f64</td><td>f64</td></tr></thead><tbody><tr><td>&quot;euronews (en f…</td><td>9</td><td>1</td><td>2839744</td><td>15330</td><td>9178</td><td>315527.111111</td><td>1703.333333</td><td>1019.777778</td></tr><tr><td>&quot;50to01 TV&quot;</td><td>13</td><td>1</td><td>1044823</td><td>26970</td><td>3831</td><td>80371.0</td><td>2074.615385</td><td>294.692308</td></tr><tr><td>&quot;New Trailer Bu…</td><td>12</td><td>2</td><td>2351148</td><td>16299</td><td>3772</td><td>195929.0</td><td>1358.25</td><td>314.333333</td></tr><tr><td>&quot;Demon Inu&quot;</td><td>3</td><td>1</td><td>1715971</td><td>17904</td><td>6520</td><td>571990.333333</td><td>5968.0</td><td>2173.333333</td></tr><tr><td>&quot;Animation on F…</td><td>12</td><td>2</td><td>6548369</td><td>110431</td><td>15908</td><td>545697.416667</td><td>9202.583333</td><td>1325.666667</td></tr></tbody></table></div>"
      ],
      "text/plain": [
       "shape: (5, 9)\n",
       "┌────────────────────────┬────────────────┬───────────────────────────┬─────────────┬───┬────────────────┬───────────────┬───────────────┬──────────────────┐\n",
       "│ channel_title          ┆ trending_count ┆ number_of_trending_videos ┆ total_views ┆ … ┆ total_comments ┆ average_views ┆ average_likes ┆ average_comments │\n",
       "│ ---                    ┆ ---            ┆ ---                       ┆ ---         ┆   ┆ ---            ┆ ---           ┆ ---           ┆ ---              │\n",
       "│ str                    ┆ u32            ┆ u32                       ┆ i64         ┆   ┆ i64            ┆ f64           ┆ f64           ┆ f64              │\n",
       "╞════════════════════════╪════════════════╪═══════════════════════════╪═════════════╪═══╪════════════════╪═══════════════╪═══════════════╪══════════════════╡\n",
       "│ euronews (en français) ┆ 9              ┆ 1                         ┆ 2839744     ┆ … ┆ 9178           ┆ 315527.111111 ┆ 1703.333333   ┆ 1019.777778      │\n",
       "│ 50to01 TV              ┆ 13             ┆ 1                         ┆ 1044823     ┆ … ┆ 3831           ┆ 80371.0       ┆ 2074.615385   ┆ 294.692308       │\n",
       "│ New Trailer Buzz       ┆ 12             ┆ 2                         ┆ 2351148     ┆ … ┆ 3772           ┆ 195929.0      ┆ 1358.25       ┆ 314.333333       │\n",
       "│ Demon Inu              ┆ 3              ┆ 1                         ┆ 1715971     ┆ … ┆ 6520           ┆ 571990.333333 ┆ 5968.0        ┆ 2173.333333      │\n",
       "│ Animation on FOX       ┆ 12             ┆ 2                         ┆ 6548369     ┆ … ┆ 15908          ┆ 545697.416667 ┆ 9202.583333   ┆ 1325.666667      │\n",
       "└────────────────────────┴────────────────┴───────────────────────────┴─────────────┴───┴────────────────┴───────────────┴───────────────┴──────────────────┘"
      ]
     },
     "execution_count": 39,
     "metadata": {},
     "output_type": "execute_result"
    }
   ],
   "source": [
    "channel_stats_pl = df_pl.groupby(\"channel_title\").agg([\n",
    "    pl.count().alias(\"trending_count\"),\n",
    "    pl.col(\"title\").n_unique().alias(\"number_of_trending_videos\"),\n",
    "    pl.col(\"views\").sum().alias(\"total_views\"),\n",
    "    pl.col(\"likes\").sum().alias(\"total_likes\"),\n",
    "    pl.col(\"comment_count\").sum().alias(\"total_comments\"),\n",
    "    pl.col(\"views\").mean().alias(\"average_views\"),\n",
    "    pl.col(\"likes\").mean().alias(\"average_likes\"),\n",
    "    pl.col(\"comment_count\").mean().alias(\"average_comments\"),\n",
    "])\n",
    "channel_stats_pl.sample(5)"
   ]
  },
  {
   "cell_type": "code",
   "execution_count": 40,
   "metadata": {},
   "outputs": [],
   "source": [
    "def make_aggregates(df: pl.DataFrame, groupby: str, agg_features: list[str]) -> pl.DataFrame:\n",
    "    # Aggregates that measure popularity using video counts\n",
    "    popularity_aggs = [\n",
    "        pl.count().alias(\"trending_count\"),\n",
    "        pl.col(\"title\").n_unique().alias(\"number_of_trending_videos\"),\n",
    "    ]\n",
    "    # Aggregates that measure popularity using metrics of the videos\n",
    "    metrics_agg = []\n",
    "    for agg in agg_features:\n",
    "        if agg not in df.columns:\n",
    "            print(f\"{agg} not in the dataframe. Skipping...\")\n",
    "        else:\n",
    "            metrics_agg.append(pl.col(agg).sum().alias(f\"total_{agg}\"))\n",
    "            metrics_agg.append(pl.col(agg).mean().alias(f\"average_{agg}\"))\n",
    "\n",
    "    stats = df.groupby(groupby).agg(popularity_aggs + metrics_agg)\n",
    "    stats = stats.sort(\"trending_count\", descending=True)\n",
    "    return stats"
   ]
  },
  {
   "cell_type": "code",
   "execution_count": 41,
   "metadata": {},
   "outputs": [
    {
     "name": "stdout",
     "output_type": "stream",
     "text": [
      "Top Channels\n",
      "shape: (5, 9)\n",
      "┌───────────────────────────────────┬────────────────┬───────────────────────────┬─────────────┬───┬─────────────┬───────────────┬─────────────────────┬───────────────────────┐\n",
      "│ channel_title                     ┆ trending_count ┆ number_of_trending_videos ┆ total_views ┆ … ┆ total_likes ┆ average_likes ┆ total_comment_count ┆ average_comment_count │\n",
      "│ ---                               ┆ ---            ┆ ---                       ┆ ---         ┆   ┆ ---         ┆ ---           ┆ ---                 ┆ ---                   │\n",
      "│ str                               ┆ u32            ┆ u32                       ┆ i64         ┆   ┆ i64         ┆ f64           ┆ i64                 ┆ f64                   │\n",
      "╞═══════════════════════════════════╪════════════════╪═══════════════════════════╪═════════════╪═══╪═════════════╪═══════════════╪═════════════════════╪═══════════════════════╡\n",
      "│ The Tonight Show Starring Jimmy … ┆ 208            ┆ 51                        ┆ 447390019   ┆ … ┆ 10186101    ┆ 48971.639423  ┆ 776719              ┆ 3734.225962           │\n",
      "│ TheEllenShow                      ┆ 207            ┆ 47                        ┆ 351577266   ┆ … ┆ 10017427    ┆ 48393.36715   ┆ 443970              ┆ 2144.782609           │\n",
      "│ Jimmy Kimmel Live                 ┆ 207            ┆ 44                        ┆ 398235069   ┆ … ┆ 8505643     ┆ 41090.062802  ┆ 727400              ┆ 3514.009662           │\n",
      "│ Saturday Night Live               ┆ 206            ┆ 38                        ┆ 594799179   ┆ … ┆ 6894625     ┆ 33469.053398  ┆ 755874              ┆ 3669.291262           │\n",
      "│ WWE                               ┆ 205            ┆ 30                        ┆ 587090246   ┆ … ┆ 6232999     ┆ 30404.873171  ┆ 1051169             ┆ 5127.653659           │\n",
      "└───────────────────────────────────┴────────────────┴───────────────────────────┴─────────────┴───┴─────────────┴───────────────┴─────────────────────┴───────────────────────┘\n",
      "\n",
      "Top Categories\n",
      "shape: (5, 9)\n",
      "┌─────────────┬────────────────┬───────────────────────────┬──────────────┬───┬─────────────┬───────────────┬─────────────────────┬───────────────────────┐\n",
      "│ category_id ┆ trending_count ┆ number_of_trending_videos ┆ total_views  ┆ … ┆ total_likes ┆ average_likes ┆ total_comment_count ┆ average_comment_count │\n",
      "│ ---         ┆ ---            ┆ ---                       ┆ ---          ┆   ┆ ---         ┆ ---           ┆ ---                 ┆ ---                   │\n",
      "│ i64         ┆ u32            ┆ u32                       ┆ i64          ┆   ┆ i64         ┆ f64           ┆ i64                 ┆ f64                   │\n",
      "╞═════════════╪════════════════╪═══════════════════════════╪══════════════╪═══╪═════════════╪═══════════════╪═════════════════════╪═══════════════════════╡\n",
      "│ 10          ┆ 13754          ┆ 910                       ┆ 171160864769 ┆ … ┆ 3742993052  ┆ 272138.508943 ┆ 293013140           ┆ 21303.849062          │\n",
      "│ 24          ┆ 9124           ┆ 884                       ┆ 29786283041  ┆ … ┆ 744266231   ┆ 81572.362012  ┆ 116897440           ┆ 12812.08242           │\n",
      "│ 22          ┆ 2926           ┆ 293                       ┆ 5754287829   ┆ … ┆ 135396249   ┆ 46273.495899  ┆ 18713149            ┆ 6395.471292           │\n",
      "│ 1           ┆ 2577           ┆ 201                       ┆ 8362707626   ┆ … ┆ 147418633   ┆ 57205.523089  ┆ 15590011            ┆ 6049.674428           │\n",
      "│ 26          ┆ 1928           ┆ 200                       ┆ 1190155227   ┆ … ┆ 51360345    ┆ 26639.183091  ┆ 7356296             ┆ 3815.506224           │\n",
      "└─────────────┴────────────────┴───────────────────────────┴──────────────┴───┴─────────────┴───────────────┴─────────────────────┴───────────────────────┘\n"
     ]
    }
   ],
   "source": [
    "channel_aggs = make_aggregates(\n",
    "    df=df_pl, groupby=\"channel_title\", agg_features=[\"views\", \"likes\", \"comment_count\"]\n",
    ")\n",
    "category_aggs = make_aggregates(\n",
    "    df=df_pl, groupby=\"category_id\", agg_features=[\"views\", \"likes\", \"comment_count\"]\n",
    ")\n",
    "\n",
    "print(\"Top Channels\")\n",
    "print(channel_aggs.head())\n",
    "\n",
    "print(\"\\nTop Categories\")\n",
    "print(category_aggs.head())"
   ]
  },
  {
   "cell_type": "code",
   "execution_count": 42,
   "metadata": {},
   "outputs": [
    {
     "data": {
      "image/png": "[encoded data removed]",
      "text/plain": [
       "<Figure size 640x480 with 1 Axes>"
      ]
     },
     "metadata": {},
     "output_type": "display_data"
    }
   ],
   "source": [
    "# Calcualte ratio\n",
    "comments_views_ratio = category_aggs.select(\n",
    "    pl.col(\"category_id\"),\n",
    "    comments_views_ratio=pl.col(\"total_comment_count\") / pl.col(\"total_views\")\n",
    ").sort(\"comments_views_ratio\", descending=True)\n",
    "\n",
    "# Barplot\n",
    "sns.barplot(\n",
    "    y=comments_views_ratio[\"category_id\"].to_numpy(),\n",
    "    x=comments_views_ratio[\"comments_views_ratio\"].to_numpy(),\n",
    "    color=\"#306e81\",\n",
    ")\n",
    "plt.title(\"Comments to Views Ratio by Categroy\")\n",
    "plt.xlabel(\"Comments to Views Ratio\")\n",
    "plt.show()"
   ]
  },
  {
   "cell_type": "code",
   "execution_count": 523,
   "metadata": {},
   "outputs": [],
   "source": [
    "channel_aggs.write_parquet(\"./data/channel_aggs.parquet\")\n",
    "category_aggs.write_parquet(\"./data/category_aggs.parquet\")"
   ]
  }
 ],
 "metadata": {
  "kernelspec": {
   "display_name": "Python 3 (ipykernel)",
   "language": "python",
   "name": "python3"
  },
  "language_info": {
   "codemirror_mode": {
    "name": "ipython",
    "version": 3
   },
   "file_extension": ".py",
   "mimetype": "text/x-python",
   "name": "python",
   "nbconvert_exporter": "python",
   "pygments_lexer": "ipython3",
   "version": "3.9.13"
  }
 },
 "nbformat": 4,
 "nbformat_minor": 2
}
